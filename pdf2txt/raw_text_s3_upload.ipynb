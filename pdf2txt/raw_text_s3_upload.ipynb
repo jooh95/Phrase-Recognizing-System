{
 "cells": [
  {
   "cell_type": "markdown",
   "metadata": {},
   "source": [
    "PDF 파일을 변환해서 original 문장 단위로 개행하여 txt 파일로 저장한 후 이를 S3에 업로드 한다."
   ]
  },
  {
   "cell_type": "code",
   "execution_count": 1,
   "metadata": {},
   "outputs": [],
   "source": [
    "import boto3\n",
    "import re\n",
    "import os\n",
    "from pdfConverter import convert_pdf_to_txt\n",
    "from pdfConverter import trim_txt\n",
    "from txt2sent import extract_sents\n",
    "import aws\n",
    "from timeLimit import time_limit\n",
    "from txt2sent import parts\n",
    "from delete_reference import del_ref\n",
    "from nltk import sent_tokenize"
   ]
  },
  {
   "cell_type": "markdown",
   "metadata": {},
   "source": [
    "상수"
   ]
  },
  {
   "cell_type": "code",
   "execution_count": 2,
   "metadata": {},
   "outputs": [],
   "source": [
    "rewrite = True  # 덮어쓰기\n",
    "folder = re.compile('pdfDatas/data2/.+[.]pdf')  # Files to download from S3"
   ]
  },
  {
   "cell_type": "code",
   "execution_count": 3,
   "metadata": {},
   "outputs": [],
   "source": [
    "# 폴더 생성\n",
    "if not os.path.exists('pdfData'):\n",
    "    os.makedirs('pdfData')\n",
    "if not os.path.exists('txtData'):\n",
    "    os.makedirs('txtData')\n",
    "if not os.path.exists('sents'):\n",
    "    os.makedirs('sents')"
   ]
  },
  {
   "cell_type": "code",
   "execution_count": null,
   "metadata": {},
   "outputs": [],
   "source": [
    "pattern = re.compile('\\(cid:[0-9]+\\)')\n",
    "\n",
    "for obj in aws.bucket.objects.all():\n",
    "    try:\n",
    "        # 우리가 원하는 pdf 파일이면\n",
    "        if folder.match(obj.key) is not None:\n",
    "            pdf_file_dir = 'pdfData/' + obj.key.split('/')[-1]\n",
    "            txt_file_dir = pdf_file_dir.replace('pdf', 'txt')\n",
    "\n",
    "            # s3에 변환된 문장이 이미 있는지 확인\n",
    "            if aws.exists(txt_file_dir) and not rewrite:\n",
    "                continue\n",
    "\n",
    "            # pdf file이 local에 존재하는지 확인하고 없으면 다운로드\n",
    "            if not os.path.exists(pdf_file_dir):\n",
    "                aws.bucket.download_file(obj.key, pdf_file_dir)\n",
    "\n",
    "            # pdf2txt 변환\n",
    "            if not os.path.exists(txt_file_dir) or rewrite:\n",
    "                text = convert_pdf_to_txt(pdf_file_dir)\n",
    "                text = trim_txt(text)\n",
    "                text = del_ref(text)\n",
    "                text = pattern.sub('', text)\n",
    "                sents = sent_tokenize(text)\n",
    "                with open(txt_file_dir, 'w', encoding='UTF-8') as f:\n",
    "                    for sent in sents:\n",
    "                        sent = sent.replace('\\n', ' ').replace('  ', ' ')\n",
    "                        f.write(sent + '\\n')\n",
    "\n",
    "            # S3에 쓰기\n",
    "            aws.s3.Object(aws.bucket_name, txt_file_dir).put(Body=open(txt_file_dir, 'rb'))\n",
    "            # print(txt_file_dir + ' uploaded.')\n",
    "\n",
    "    except Exception as e:\n",
    "        print(e)"
   ]
  },
  {
   "cell_type": "code",
   "execution_count": null,
   "metadata": {},
   "outputs": [],
   "source": []
  }
 ],
 "metadata": {
  "kernelspec": {
   "display_name": "Python 3",
   "language": "python",
   "name": "python3"
  },
  "language_info": {
   "codemirror_mode": {
    "name": "ipython",
    "version": 3
   },
   "file_extension": ".py",
   "mimetype": "text/x-python",
   "name": "python",
   "nbconvert_exporter": "python",
   "pygments_lexer": "ipython3",
   "version": "3.6.6"
  }
 },
 "nbformat": 4,
 "nbformat_minor": 2
}
