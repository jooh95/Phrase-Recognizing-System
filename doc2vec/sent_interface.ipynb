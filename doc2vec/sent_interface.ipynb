{
 "cells": [
  {
   "cell_type": "markdown",
   "metadata": {},
   "source": [
    "# 문장 추천 인터페이스\n",
    "- input : str 형태. 예) 'I am a boy.'\n",
    "- output : list of str 형태. 예) ['I am a girl.', 'You are a boy.']\n",
    "\n",
    "## 사용법\n",
    "아래에 있는 코드를 복사하여 sent_interface.py를 만든다.\n",
    "\n",
    "from sent_interface import similar_sents\n",
    "\n",
    "similar_sents('I am a boy.')"
   ]
  },
  {
   "cell_type": "code",
   "execution_count": 1,
   "metadata": {},
   "outputs": [
    {
     "name": "stderr",
     "output_type": "stream",
     "text": [
      "C:\\Users\\Bangjungyip\\AppData\\Local\\conda\\conda\\envs\\gensim\\lib\\site-packages\\gensim\\utils.py:1209: UserWarning: detected Windows; aliasing chunkize to chunkize_serial\n",
      "  warnings.warn(\"detected Windows; aliasing chunkize to chunkize_serial\")\n"
     ]
    }
   ],
   "source": [
    "import pickle\n",
    "import re\n",
    "from nltk import word_tokenize\n",
    "from gensim.models.doc2vec import Doc2Vec, TaggedDocument"
   ]
  },
  {
   "cell_type": "code",
   "execution_count": 2,
   "metadata": {},
   "outputs": [],
   "source": [
    "with open('corpus.pickle', 'rb') as f:\n",
    "    original_sents = pickle.load(f)\n",
    "\n",
    "with open('common_texts.pickle', 'rb') as f:\n",
    "    common_texts = pickle.load(f)\n",
    "\n",
    "model = Doc2Vec.load('doc2vec.model')"
   ]
  },
  {
   "cell_type": "code",
   "execution_count": 5,
   "metadata": {},
   "outputs": [],
   "source": [
    "def similar_sents(input_sent):\n",
    "    p = re.compile('[a-zA-Z]+')  # 알파벳으로만 된 단어 패턴\n",
    "\n",
    "    input_token = word_tokenize(input_sent.lower())\n",
    "    \n",
    "    average_n = 10\n",
    "    vector = 0\n",
    "    for k in range(average_n):\n",
    "        vector += model.infer_vector(input_token)\n",
    "    vector /= average_n\n",
    "\n",
    "    # Search for the most similar sentences\n",
    "    similar_sentences = model.docvecs.most_similar(positive=[vector], topn=10)\n",
    "    \n",
    "    # topn개의 문장 중에서 이상한 문장 지우기\n",
    "    good_sents = []\n",
    "    \n",
    "    for sent_index in range(len(similar_sentences)):\n",
    "        sent = original_sents[similar_sentences[sent_index][0]]\n",
    "        \n",
    "        is_good_sent = True\n",
    "        \n",
    "        # 문장의 단어 수가 5보다 작으면 좋은 문장이 아니다.\n",
    "        if len(sent) < 5:\n",
    "            is_good_sent = False\n",
    "            \n",
    "        # 한 단어의 길이가 20을 넘지 않고, 영어가 아닌 문장이 너무 많이 들어가 있지 않아야\n",
    "        good_word_cnt = 0\n",
    "        for word in sent:\n",
    "            if len(word) >= 20:\n",
    "                is_good_sent = False\n",
    "                break\n",
    "            if p.match(word):\n",
    "                good_word_cnt += 1\n",
    "                \n",
    "        # 특수 문자가 너무 많을 경우\n",
    "        if good_word_cnt < 0.67 * len(sent):\n",
    "            is_good_sent = False\n",
    "            \n",
    "        # 이미 있는 문장의 경우\n",
    "        if sent in good_sents:\n",
    "            is_good_sent = False\n",
    "            \n",
    "        if is_good_sent:\n",
    "            good_sents.append(sent)\n",
    "    \n",
    "    num_sent = len(good_sents) if len(good_sents) < 3 else 3\n",
    "    \n",
    "    return good_sents[:num_sent]"
   ]
  },
  {
   "cell_type": "code",
   "execution_count": 17,
   "metadata": {},
   "outputs": [
    {
     "data": {
      "text/plain": [
       "['Il mio amico fraterno, Luigi, sempre pronto con idee di business mai realizzate.',\n",
       " 'Chapter 4 is a review of concepts around business   3 | P a g e',\n",
       " 'com / difference between proactive reactive business strategy 62157.html.']"
      ]
     },
     "execution_count": 17,
     "metadata": {},
     "output_type": "execute_result"
    }
   ],
   "source": [
    "similar_sents('Harvard Business Review Polska')"
   ]
  },
  {
   "cell_type": "code",
   "execution_count": null,
   "metadata": {},
   "outputs": [],
   "source": []
  }
 ],
 "metadata": {
  "kernelspec": {
   "display_name": "Python 3",
   "language": "python",
   "name": "python3"
  },
  "language_info": {
   "codemirror_mode": {
    "name": "ipython",
    "version": 3
   },
   "file_extension": ".py",
   "mimetype": "text/x-python",
   "name": "python",
   "nbconvert_exporter": "python",
   "pygments_lexer": "ipython3",
   "version": "3.6.6"
  }
 },
 "nbformat": 4,
 "nbformat_minor": 2
}
